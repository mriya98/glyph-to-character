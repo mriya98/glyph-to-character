{
  "nbformat": 4,
  "nbformat_minor": 0,
  "metadata": {
    "colab": {
      "provenance": [],
      "toc_visible": true
    },
    "kernelspec": {
      "name": "python3",
      "display_name": "Python 3"
    },
    "language_info": {
      "name": "python"
    }
  },
  "cells": [
    {
      "cell_type": "markdown",
      "source": [
        "# Set up"
      ],
      "metadata": {
        "id": "-lZp3Gx99DtV"
      }
    },
    {
      "cell_type": "code",
      "source": [
        "# Establish connection to drive\n",
        "from google.colab import drive\n",
        "drive.mount('/content/drive')\n",
        "root_path = 'drive/MyDrive/Colab Notebooks'"
      ],
      "metadata": {
        "id": "TFg49ady9H2Z"
      },
      "execution_count": null,
      "outputs": []
    },
    {
      "cell_type": "code",
      "execution_count": 1,
      "metadata": {
        "colab": {
          "base_uri": "https://localhost:8080/"
        },
        "id": "83DUEe2HNeqy",
        "outputId": "f1757a77-95a7-461c-9730-77ffad8c8af7"
      },
      "outputs": [
        {
          "output_type": "stream",
          "name": "stdout",
          "text": [
            "Collecting pypdfium2\n",
            "  Downloading pypdfium2-4.30.0-py3-none-manylinux_2_17_x86_64.manylinux2014_x86_64.whl.metadata (48 kB)\n",
            "\u001b[?25l     \u001b[90m━━━━━━━━━━━━━━━━━━━━━━━━━━━━━━━━━━━━━━━━\u001b[0m \u001b[32m0.0/48.5 kB\u001b[0m \u001b[31m?\u001b[0m eta \u001b[36m-:--:--\u001b[0m\r\u001b[2K     \u001b[90m━━━━━━━━━━━━━━━━━━━━━━━━━━━━━━━━━━━━━━━━\u001b[0m \u001b[32m48.5/48.5 kB\u001b[0m \u001b[31m2.6 MB/s\u001b[0m eta \u001b[36m0:00:00\u001b[0m\n",
            "\u001b[?25hDownloading pypdfium2-4.30.0-py3-none-manylinux_2_17_x86_64.manylinux2014_x86_64.whl (2.8 MB)\n",
            "\u001b[?25l   \u001b[90m━━━━━━━━━━━━━━━━━━━━━━━━━━━━━━━━━━━━━━━━\u001b[0m \u001b[32m0.0/2.8 MB\u001b[0m \u001b[31m?\u001b[0m eta \u001b[36m-:--:--\u001b[0m\r\u001b[2K   \u001b[91m━━━━━━━━━━━━━━━━━━━\u001b[0m\u001b[91m╸\u001b[0m\u001b[90m━━━━━━━━━━━━━━━━━━━━\u001b[0m \u001b[32m1.4/2.8 MB\u001b[0m \u001b[31m42.2 MB/s\u001b[0m eta \u001b[36m0:00:01\u001b[0m\r\u001b[2K   \u001b[91m━━━━━━━━━━━━━━━━━━━━━━━━━━━━━━━━━━━━━━━\u001b[0m\u001b[91m╸\u001b[0m \u001b[32m2.8/2.8 MB\u001b[0m \u001b[31m58.4 MB/s\u001b[0m eta \u001b[36m0:00:01\u001b[0m\r\u001b[2K   \u001b[90m━━━━━━━━━━━━━━━━━━━━━━━━━━━━━━━━━━━━━━━━\u001b[0m \u001b[32m2.8/2.8 MB\u001b[0m \u001b[31m32.5 MB/s\u001b[0m eta \u001b[36m0:00:00\u001b[0m\n",
            "\u001b[?25hInstalling collected packages: pypdfium2\n",
            "Successfully installed pypdfium2-4.30.0\n"
          ]
        }
      ],
      "source": [
        "!pip install pypdfium2"
      ]
    },
    {
      "cell_type": "markdown",
      "source": [
        "# Latin alphabets\n",
        "(General approach first tested on latin alphabets)"
      ],
      "metadata": {
        "id": "KrkMn9V80oe4"
      }
    },
    {
      "cell_type": "code",
      "source": [
        "# Load pdf\n",
        "import pypdfium2 as pdfium\n",
        "pdf = pdfium.PdfDocument(\"./Apple_font_mapping_issue.pdf\")\n",
        "#version = pdf.get_version()\n",
        "print(\"Number of pages in pdf: \", len(pdf))"
      ],
      "metadata": {
        "colab": {
          "base_uri": "https://localhost:8080/"
        },
        "id": "sn-pqjy7Rb3N",
        "outputId": "d59d5de1-1f38-4d1b-fe81-1036a666c8b4"
      },
      "execution_count": 2,
      "outputs": [
        {
          "output_type": "stream",
          "name": "stdout",
          "text": [
            "Number of pages in pdf:  1\n"
          ]
        }
      ]
    },
    {
      "cell_type": "code",
      "source": [
        "#Get unique characters and their indexes from text_str\n",
        "def get_unique_characters_with_index(txt_string):\n",
        "  # Dictionary to store unique characters and their first occurrence index\n",
        "  unique_chars = {}\n",
        "\n",
        "  unwanted_chars = ['\\n', '\\r', ' ']\n",
        "\n",
        "  for index, char in enumerate(txt_string):\n",
        "      # Add the character to the dictionary if it's not already present\n",
        "      if char not in unique_chars and char not in unwanted_chars:\n",
        "          unique_chars[char] = index\n",
        "\n",
        "  return unique_chars\n",
        "\n",
        "def get_coord_pixel(dtp_coord):\n",
        "  return (96*dtp_coord)/72"
      ],
      "metadata": {
        "id": "m1NHCZ81Rv6p"
      },
      "execution_count": 3,
      "outputs": []
    },
    {
      "cell_type": "code",
      "source": [
        "def get_page_character_glyphs(pdf_page):\n",
        "    pg_w, pg_h = pdf_page.get_size()\n",
        "    txtpg = pdf_page.get_textpage()\n",
        "\n",
        "    # Get text on page\n",
        "    text_str = txtpg.get_text_range()\n",
        "    # Get unique characters with index on page\n",
        "    unique_char = get_unique_characters_with_index(text_str)\n",
        "\n",
        "    img_scale = 2\n",
        "    # Render the page in form of an image with actual page dimesnsions being translated to image dimensions\n",
        "    pil_image = pdf_page.render(scale=(96/72)*img_scale).to_pil()\n",
        "\n",
        "    glyph_images = {}\n",
        "\n",
        "    for char in unique_char.keys():\n",
        "        # get_charbox returns binding box with coordinates in seq: left, bottom, right, top\n",
        "        # But if the origin is considered to be at left top corner (used in images)\n",
        "        # Then, the bottom coordinate will correspond to top in the image and vice-versa\n",
        "        left, bottom, right, top = txtpg.get_charbox(unique_char[char])\n",
        "\n",
        "        # Get page size to properly orient the y-axis for image\n",
        "        left_px = get_coord_pixel(left)\n",
        "        top_px = get_coord_pixel(pg_h-top)\n",
        "        right_px = get_coord_pixel(right)\n",
        "        bottom_px = get_coord_pixel(pg_h-bottom)\n",
        "\n",
        "        #print(left_px, top_px, right_px, bottom_px)\n",
        "\n",
        "        # Crop the glyph from the page image\n",
        "        glyph_images[char] = pil_image.crop((left_px*img_scale, top_px*img_scale, right_px*img_scale, bottom_px*img_scale))\n",
        "\n",
        "    return glyph_images\n"
      ],
      "metadata": {
        "id": "KoWFAHB3SELl"
      },
      "execution_count": 4,
      "outputs": []
    },
    {
      "cell_type": "markdown",
      "source": [
        "## Get unicode for glyphs"
      ],
      "metadata": {
        "id": "9sYGr68inJt-"
      }
    },
    {
      "cell_type": "code",
      "source": [
        "import config\n",
        "import os\n",
        "import PIL.Image\n",
        "\n",
        "# Configure API Key\n",
        "import google.generativeai as genai\n",
        "from IPython.display import display\n",
        "from IPython.display import Markdown\n",
        "import textwrap\n",
        "\n",
        "def to_markdown(text):\n",
        "    text = text.replace(\"•\", \"  *\")\n",
        "    return Markdown(textwrap.indent(text, \"> \", predicate=lambda _: True))\n",
        "\n",
        "genai.configure(api_key=config.GEMINI_API_KEY)"
      ],
      "metadata": {
        "id": "VFcKZ5p7m-Qm"
      },
      "execution_count": 5,
      "outputs": []
    },
    {
      "cell_type": "code",
      "source": [
        "def get_unicode_from_gemini(glyph_img):\n",
        "  # Initialise model\n",
        "  model = genai.GenerativeModel(\"gemini-1.5-flash\")\n",
        "\n",
        "  # Pass image and prompt\n",
        "  response = model.generate_content(\n",
        "      [\n",
        "          \"The given picture has a character in it. Return the correct unicode for that character. Do not add any other unnecessary information.\",\n",
        "          glyph_img,\n",
        "      ],\n",
        "      stream=True,\n",
        "  )\n",
        "  response.resolve()\n",
        "  return response.text.strip()"
      ],
      "metadata": {
        "id": "aW3yz9TPndDM"
      },
      "execution_count": 6,
      "outputs": []
    },
    {
      "cell_type": "code",
      "source": [
        "# Get the first page of pdf\n",
        "pdf_page = pdf[0]\n",
        "\n",
        "# Get the glyphs of all unique characters in the page\n",
        "glyph_images = get_page_character_glyphs(pdf_page)\n",
        "\n",
        "# Unique characters (as read by the pypdfium2 parser)\n",
        "print(glyph_images.keys())"
      ],
      "metadata": {
        "colab": {
          "base_uri": "https://localhost:8080/"
        },
        "id": "wCAmWzZCoYaW",
        "outputId": "c339dfc9-c8e7-4ec4-f3a0-d55cb4d2085b"
      },
      "execution_count": 8,
      "outputs": [
        {
          "output_type": "stream",
          "name": "stdout",
          "text": [
            "dict_keys(['A', 'p', 'l', 'e', 'I', 'n', 'c', '.', 'C', 'O', 'N', 'D', 'E', 'S', 'L', 'T', 'M', 'F', 'P', 'R', '(', 'U', 'a', 'u', 'd', 'i', 't', ')', 'm', 'o', 's', ',', 'x', 'b', 'r', 'f', 'h', 'w', '-', '3', '0', '2', '4', '1', ':', '!', '6', '8', '7', '9', 'v', '5', 'G', 'g', '/', 'B', 'y', 'J', 'W', 'H'])\n"
          ]
        },
        {
          "output_type": "stream",
          "name": "stderr",
          "text": [
            "/usr/local/lib/python3.10/dist-packages/pypdfium2/_helpers/textpage.py:80: UserWarning: get_text_range() call with default params will be implicitly redirected to get_text_bounded()\n",
            "  warnings.warn(\"get_text_range() call with default params will be implicitly redirected to get_text_bounded()\")\n"
          ]
        }
      ]
    },
    {
      "cell_type": "code",
      "source": [
        "import time\n",
        "# Get unicode for each glyph and replace in dictionary\n",
        "glyph_char_map = {}\n",
        "iter = 0\n",
        "for char in glyph_images.keys():\n",
        "  glyph_char_map[char] = get_unicode_from_gemini(glyph_images[char])\n",
        "  # Introduce delay to stay within the limit of 15RPM\n",
        "  time.sleep(5)"
      ],
      "metadata": {
        "id": "UjkgwqfOrUiu"
      },
      "execution_count": null,
      "outputs": []
    },
    {
      "cell_type": "code",
      "source": [
        "glyph_char_map"
      ],
      "metadata": {
        "colab": {
          "base_uri": "https://localhost:8080/"
        },
        "id": "VpoZn9VesmTE",
        "outputId": "66d179aa-1395-47ac-a497-b51f2081ed1b"
      },
      "execution_count": 10,
      "outputs": [
        {
          "output_type": "execute_result",
          "data": {
            "text/plain": [
              "{'A': 'U+0041',\n",
              " 'p': 'U+0070',\n",
              " 'l': 'U+25A0 ◼️',\n",
              " 'e': 'U+0065',\n",
              " 'I': 'U+25A0',\n",
              " 'n': 'U+0074',\n",
              " 'c': 'U+0043',\n",
              " '.': 'U+25A0',\n",
              " 'C': 'U+0043',\n",
              " 'O': 'U+006F',\n",
              " 'N': 'U+004E',\n",
              " 'D': 'U+0044',\n",
              " 'E': 'U+0045',\n",
              " 'S': 'U+0053',\n",
              " 'L': 'U+004C',\n",
              " 'T': 'U+0054',\n",
              " 'M': 'U+004D',\n",
              " 'F': 'U+0046',\n",
              " 'P': 'U+0050',\n",
              " 'R': 'U+0052',\n",
              " '(': 'U+25C7',\n",
              " 'U': 'U+0055',\n",
              " 'a': 'U+0045',\n",
              " 'u': 'U+2502',\n",
              " 'd': 'U+0061',\n",
              " 'i': 'U+2500',\n",
              " 't': 'U+253C 十字',\n",
              " ')': 'U+25F2',\n",
              " 'm': 'U+004D',\n",
              " 'o': 'U+004F',\n",
              " 's': 'U+0053',\n",
              " ',': 'U+2502',\n",
              " 'x': 'U+2715',\n",
              " 'b': 'U+0062'}"
            ]
          },
          "metadata": {},
          "execution_count": 10
        }
      ]
    },
    {
      "cell_type": "markdown",
      "source": [
        "Sample code for unicode to character conversion"
      ],
      "metadata": {
        "id": "QYszA7Io0Gsv"
      }
    },
    {
      "cell_type": "code",
      "source": [
        "import unicodedata\n",
        "\n",
        "# Convert unicode to actual character\n",
        "unicode_from_VLM = glyph_char_map['M']\n",
        "unicode_int = int(unicode_from_VLM[2:], 16)\n",
        "# Get the character represented by the Unicode code point\n",
        "character = chr(unicode_int)\n",
        "print(character)"
      ],
      "metadata": {
        "id": "JRDom4dFuepJ",
        "colab": {
          "base_uri": "https://localhost:8080/"
        },
        "outputId": "e9220069-81bd-4290-9e7a-d9bd1de4e257"
      },
      "execution_count": 27,
      "outputs": [
        {
          "output_type": "stream",
          "name": "stdout",
          "text": [
            "M\n"
          ]
        }
      ]
    },
    {
      "cell_type": "markdown",
      "source": [
        "# Parsing Hindi Text"
      ],
      "metadata": {
        "id": "fuediZoAr4Az"
      }
    },
    {
      "cell_type": "code",
      "source": [
        "import pypdfium2 as pdfium\n",
        "hindi_pdf = pdfium.PdfDocument(\"./hindi_text_file.pdf\")\n",
        "print(\"Number of pages in pdf: \", len(hindi_pdf))"
      ],
      "metadata": {
        "id": "O86wSIuHF0TK",
        "colab": {
          "base_uri": "https://localhost:8080/"
        },
        "outputId": "9dd7145d-dad6-4f6f-ba09-f2aedc00ad7c"
      },
      "execution_count": 12,
      "outputs": [
        {
          "output_type": "stream",
          "name": "stdout",
          "text": [
            "Number of pages in pdf:  2\n"
          ]
        }
      ]
    },
    {
      "cell_type": "code",
      "source": [
        "# Get the first page\n",
        "first_page = hindi_pdf[0]\n",
        "txtpg = first_page.get_textpage()\n",
        "hindi_txt = txtpg.get_text_range()\n",
        "# Hindi text parsed by the library\n",
        "hindi_txt"
      ],
      "metadata": {
        "colab": {
          "base_uri": "https://localhost:8080/",
          "height": 157
        },
        "id": "Mpfc4w1Nr_zn",
        "outputId": "969c2afa-5458-4102-a986-a058682dd8ae"
      },
      "execution_count": 14,
      "outputs": [
        {
          "output_type": "execute_result",
          "data": {
            "text/plain": [
              "'1\\r\\nहिमालय की संरचना और इसका भ\\r\\nू\\r\\nगर्भकि इतििास\\r\\nपीटर मोलनार\\r\\nदन\\r\\nु\\r\\nिया की सबसे ऊँ ची पर्तव श्\\r\\nर\\r\\nृंखला का निर्ावण आज से 4 से 5 \\r\\nकरोड़ र्र्व प\\r\\nू\\r\\nर्व जब भारतीय उपर्हाद्र्ीप एशिया से टकराया, उस \\r\\nसर्य से ही ि\\r\\nु\\r\\nरू हो गया।\\r\\nकरीब 40 शर्शलयि र्र्ों से भारतीय उप-र्हाद्र्ीप एशिया के भीतर धीरे-धीरे घ\\r\\nुसपैठ\\r\\nकरता रहा है। इस प्रक्रिया र्ें इसिे हहर्ालय और नतब् बत के पठार का निर्ावण क्रकया और \\r\\nअपिे रास् ते र्ें पड़िे र्ाले चीि और र्ृंगोशलया के टुकड़़ों को दबोच हदया। नतब्बती पठार \\r\\nदन\\r\\nु\\r\\nिया का सबसे ऊॅंचा और बड़ा पठार ही शसर्व भारतीय उपर्हाद्र्ीप की िक्तत और \\r\\nदृढ़ता का प्रतीक िहीृं है, बक्कक उप-र्हाद्र्ीप और एशिया के बीच हुई टतकर का सबसे \\r\\nिािदार पररणार् और वर्श्र् की सबसे ऊँची पर्तव श्ृंख\\r\\nर\\r\\nला है, क्जसे हर् सब हहर्ालय के \\r\\nिार् से प\\r\\nु\\r\\nकारते है।\\r\\nर्ह चट्टाि क्जससे हहर्ालय का निर्ावण हुआ, र्ह अपिे पीछे नतब्बती पठार के \\r\\nसहारे से लगातार ऊपर और भारत के र्ैदािी भाग की ओर बढ़ रही है। प्रत्येक बड़े \\r\\nभूकम्प के बाद का लगभग दो या तीि हजार क्रकलोर्ीटर लम्बा एक खण्ड या हहस् सा\\r\\nभारत के र्ैदािी भाग के ऊपर कई र्ीटर और बढ़ता है और इसे दसू रे िजररए से देखा\\r\\nजाए तो कहा जा सकता है क्रक भारतीय उप-र्हाद्र्ीप हहर्ालय के कई र्ीटर िीचे चला \\r\\nजाता है। \\r\\nइससे जाहहर होता है क्रक इतिे वर्िालकाय पररणार् के र्हाद्र्ीपीय टकरार् \\r\\nएशिया के शलए िए िहीृं हैं। पथ्\\r\\nर\\r\\nर्ी के इनतहास र्ें करीब आधे या उससे अधधक सर्य \\r\\nतक हर् यह पाते हैं क्रक, र्हाद्र्ीप एक दसू रे से अलग होते थे और उिके टुकड़े एक '"
            ],
            "application/vnd.google.colaboratory.intrinsic+json": {
              "type": "string"
            }
          },
          "metadata": {},
          "execution_count": 14
        }
      ]
    },
    {
      "cell_type": "markdown",
      "source": [
        "In the above text, some of the words are incorrectly parsed and characters like \\r \\n are introduced where they shouldn't be.\n",
        "The sequence of characters is also changed.\n",
        "\n"
      ],
      "metadata": {
        "id": "XmagVDK5sXqn"
      }
    },
    {
      "cell_type": "code",
      "source": [
        "# Bounding boxes for हि\n",
        "# consonant\n",
        "trial_bbox = txtpg.get_charbox(3)\n",
        "print(trial_bbox)\n",
        "# matra\n",
        "trial_nxt = txtpg.get_charbox(4)\n",
        "print(trial_nxt)"
      ],
      "metadata": {
        "colab": {
          "base_uri": "https://localhost:8080/"
        },
        "id": "rVKRXGPIui_4",
        "outputId": "af7c4690-0903-4384-847c-1212f519487d"
      },
      "execution_count": 15,
      "outputs": [
        {
          "output_type": "stream",
          "name": "stdout",
          "text": [
            "(74.30400085449219, 730.5399780273438, 90.13716125488281, 750.76513671875)\n",
            "(81.14399719238281, 727.2899169921875, 93.92471313476562, 744.9237670898438)\n"
          ]
        }
      ]
    },
    {
      "cell_type": "markdown",
      "source": [
        "## Get unique hindi characters\n",
        "Here, a character comprises letter + matra(if present) together."
      ],
      "metadata": {
        "id": "dWh471dNxRWD"
      }
    },
    {
      "cell_type": "code",
      "source": [
        "# Function to get list of all characters in a page\n",
        "def get_unique_characters(pdf_text):\n",
        "    # Initialise a dictionary to store character : bounding box\n",
        "    unique_char = {}\n",
        "    seq_char = []\n",
        "    prev_char = pdf_text[0]\n",
        "    c_char = prev_char\n",
        "    p_left, p_bottom, p_right, p_top = txtpg.get_charbox(0)\n",
        "    c_left, c_bottom, c_right, c_top = txtpg.get_charbox(0)\n",
        "    i_prev = 0\n",
        "    c_len = 0\n",
        "    for i, char in enumerate(pdf_text):\n",
        "        #char = pdf_text[i]\n",
        "        if char=='\\n' or char=='\\r' or char==' ' or i==0:\n",
        "          seq_char.append(char)\n",
        "          continue\n",
        "        # Get bounding box for current character\n",
        "        left, bottom, right, top = txtpg.get_charbox(i)\n",
        "        if c_len<2 and ((p_left <= left < p_right) or (p_bottom<= bottom <= p_top)):\n",
        "          # The character is likely a matra attached to prev letter\n",
        "          # Get bounding box for combined characters\n",
        "          c_left = min(left, p_left)\n",
        "          c_bottom = min(bottom, p_bottom)\n",
        "          c_right = max(right, p_right)\n",
        "          c_top = max(top, p_top)\n",
        "          c_char += char\n",
        "          c_len += 1\n",
        "        else:\n",
        "          # The character is a new character\n",
        "          # Add the accumulated character/s to the dictionary\n",
        "          if c_char not in unique_char:\n",
        "            unique_char[c_char] = (c_left, c_bottom, c_right, c_top)\n",
        "          seq_char.append(c_char)\n",
        "          # Reset the accumulated character\n",
        "          c_char = char\n",
        "          c_len = 1\n",
        "        # Update previous character to current\n",
        "        i_prev = i\n",
        "        prev_char = char\n",
        "        p_left, p_bottom, p_right, p_top = left, bottom, right, top\n",
        "    return unique_char, seq_char"
      ],
      "metadata": {
        "id": "B3MH8V8au5_f"
      },
      "execution_count": 16,
      "outputs": []
    },
    {
      "cell_type": "code",
      "source": [
        "# Get unique characters\n",
        "unique_characters, sequenced_characters = get_unique_characters(hindi_txt)"
      ],
      "metadata": {
        "id": "OiMb2KHvwg0k"
      },
      "execution_count": 17,
      "outputs": []
    },
    {
      "cell_type": "code",
      "source": [
        "unique_characters.keys()"
      ],
      "metadata": {
        "colab": {
          "base_uri": "https://localhost:8080/"
        },
        "id": "3jFZJtRowjIT",
        "outputId": "44f05746-3627-470f-92c9-b1e3c29d9204"
      },
      "execution_count": 18,
      "outputs": [
        {
          "output_type": "execute_result",
          "data": {
            "text/plain": [
              "dict_keys(['1', 'हि', 'मा', 'लय', 'की', 'सं', 'रच', 'ना', 'और', 'इस', 'का', 'भू', 'गर', '्भ', 'कि', 'इत', 'िि', 'ास', 'पी', 'टर', 'मो', 'लन', 'ार', 'दन', 'ु', 'िय', 'ाक', 'ी', 'सब', 'से', 'ऊँ', 'ची', 'पर', '्त', 'व', 'श्', 'रृ', 'ंख', 'ला', 'नि', 'र्', 'ाव', 'ण', 'आज', '4', '5', 'कर', 'ोड', '़र', '्र', '्व', 'पू', 'जब', 'भा', 'रत', 'ीय', 'उप', 'हा', 'द्', 'ीप', 'एश', 'ा', 'टक', 'रा', 'या', ',उ', 'स', 'सर', '्य', 'ही', 'िु', 'रू', 'हो', 'गय', 'ा।', 'ीब', '0श', 'शल', 'यि', 'ों', '-', 'े', 'भी', 'तर', 'धी', 'रे', 'घु', 'सप', 'ै', 'ठ', 'ता', 'रह', 'है', '।', 'प्', 'रक', '्े', 'ं', 'िे', 'हह', 'ाल', 'य', 'नत', 'ब्', 'बत', 'के', 'पठ', 'णक', 'कय', 'अप', 'स्', 'ते', 'ें', 'पड', '़ि', 'ि', 'ृं', 'गो', 'ट', 'ुक', 'ड', '़़', 'को', 'दब', 'ोच', 'हद', 'ठा', 'रद', 'न', 'ब', 'ऊ', 'ॅ', 'ंच', 'बड', '़ा', 'शस', 'वभ', 'ती', 'यउ', 'प', 'िक', 'तऔ', 'ृ', 'ढ़', 'ीक', 'िह', 'ीृ', 'ंह', ',ब', 'क्', 'कक', '-र', '्', 'ीच', 'हु', 'ईट', 'त', 'िा', 'िद', 'रण', '्औ', 'र', 'वर', '्श', 'ँ', 'वश', '्ृ', ',क', '्ज', 'ह', '्स', 'बह', 'हर', '्ा', 'ेह', '।र', 'हच', 'ट्', 'टा', 'सस', 'णह', 'आ,', 'हअ', 'पि', 'ेप', 'ीछ', 'ेन', 'तब', '्ब', 'ेस', 'ेल', 'गा', 'ऊप', 'रऔ', 'रभ', 'तक', 'ेर', '्ै', 'दा', 'िी', 'गक', 'ीओ', 'रब', 'ीह', 'ै।', 'ेक', '़े', 'भ', 'ूक', 'म', '्प', 'बा', 'द', 'लग', 'भग', 'दो', 'ात', 'ीि', 'हज', 'लो', 'ीट', 'रल', 'म्', 'ाए', 'कख', 'ण्', 'सा', 'ेऊ', 'कई', 'औ', 'रइ', 'दस', 'ू', 'जर', 'रए', 'ेख', 'ाज', 'तो', 'क', 'जा', 'सक', 'कभ', '्ह', 'यक', 'ईर', '्ी', 'चे', 'चल', 'ोत', 'ाह', 'ैक', 'कइ', 'ति', 'लक', 'ाय', '्क', 'ाद', 'यट', 'ए', 'िए', 'ैं', 'पथ', 'इन', 'आध', 'उस', 'अध', 'ध', 'कस', 'यत', 'कह', 'यह', 'पा', 'क,', 'एक', 'सू', 'ेअ', 'थे', 'उ', 'ेट', '़', 'ेए'])"
            ]
          },
          "metadata": {},
          "execution_count": 18
        }
      ]
    },
    {
      "cell_type": "markdown",
      "source": [
        "## Glyphs for hindi characters\n",
        "\n",
        "Page is rendered as image.\n",
        "\n",
        "1.   Page is rendered as image\n",
        "2.   Coodinate of character stored in unique_characters retireved\n",
        "3.   Appropriate conversions are applied to convert PDF coordinates (dtp) to image coordinates (pixels) as the axis orientation is different\n",
        "4.   Glyph extracted by cropping it out from image\n",
        "\n",
        "\n"
      ],
      "metadata": {
        "id": "Gqwr-dL9xo1R"
      }
    },
    {
      "cell_type": "code",
      "source": [
        "def get_hindi_glyph(bbox):\n",
        "  #bbox_dtp = txtpg.get_charbox(5)\n",
        "  #print(bbox)\n",
        "\n",
        "  def get_coord_pixel(dtp_coord):\n",
        "    return (96*dtp_coord)/72\n",
        "\n",
        "  # get_charbox returns binding box with coordinates in seq: left, bottom, right, top\n",
        "  # But if the origin is considered to be at left top corner (used in images)\n",
        "  # Then, the bottom coordinate will correspond to top in the image and vice-versa\n",
        "  left, bottom, right, top = bbox\n",
        "\n",
        "  # Get page size to properly orient the y-axis for image\n",
        "  pg_w, pg_h = first_page.get_size()\n",
        "  left_px = get_coord_pixel(left)\n",
        "  top_px = get_coord_pixel(pg_h-top)\n",
        "  right_px = get_coord_pixel(right)\n",
        "  bottom_px = get_coord_pixel(pg_h-bottom)\n",
        "\n",
        "  print(left_px, top_px, right_px, bottom_px)\n",
        "\n",
        "  img_scale = 2\n",
        "  # Render the page in form of an image with actual page dimesnsions being translated to image dimensions\n",
        "  pil_image = first_page.render(scale=(96/72)*img_scale).to_pil()\n",
        "\n",
        "  # Crop the glyph from the page image\n",
        "  glyph_image = pil_image.crop((left_px*img_scale, top_px*img_scale, right_px*img_scale, bottom_px*img_scale))\n",
        "\n",
        "  return glyph_image"
      ],
      "metadata": {
        "id": "LOJWj7BHwnV2"
      },
      "execution_count": 20,
      "outputs": []
    },
    {
      "cell_type": "code",
      "source": [
        "# Example of correctly parsed text\n",
        "sample_1 = get_hindi_glyph(unique_characters['हि'])\n",
        "sample_1"
      ],
      "metadata": {
        "colab": {
          "base_uri": "https://localhost:8080/",
          "height": 97
        },
        "id": "FwUOPNQky2v1",
        "outputId": "372fd514-b215-4dd0-c3be-2dfed9fac0ad"
      },
      "execution_count": 21,
      "outputs": [
        {
          "output_type": "stream",
          "name": "stdout",
          "text": [
            "99.07200113932292 121.53987630208333 125.23295084635417 152.84016927083334\n"
          ]
        },
        {
          "output_type": "execute_result",
          "data": {
            "text/plain": [
              "<PIL.Image.Image image mode=RGB size=52x63>"
            ],
            "image/png": "[encoded data removed]",
            "image/jpeg": "[encoded data removed]"
          },
          "metadata": {},
          "execution_count": 21
        }
      ]
    },
    {
      "cell_type": "code",
      "source": [
        "# For letters in incorrect sequence, the glyph includes unwanted or even incorrect infromation\n",
        "sample_2 = get_hindi_glyph(unique_characters['गर'])\n",
        "sample_2"
      ],
      "metadata": {
        "colab": {
          "base_uri": "https://localhost:8080/",
          "height": 88
        },
        "id": "vJ3BKB34zRtx",
        "outputId": "9c52507f-4639-4107-eb35-5733e80faf37"
      },
      "execution_count": 22,
      "outputs": [
        {
          "output_type": "stream",
          "name": "stdout",
          "text": [
            "516.031982421875 121.53987630208333 563.8302815755209 148.50675455729166\n"
          ]
        },
        {
          "output_type": "execute_result",
          "data": {
            "text/plain": [
              "<PIL.Image.Image image mode=RGB size=96x54>"
            ],
            "image/png": "[encoded data removed]",
            "image/jpeg": "[encoded data removed]"
          },
          "metadata": {},
          "execution_count": 22
        }
      ]
    },
    {
      "cell_type": "code",
      "source": [
        "# Example of mismatch die to incorrect sequence of characters\n",
        "sample_3 = get_hindi_glyph(unique_characters['कि'])\n",
        "sample_3"
      ],
      "metadata": {
        "colab": {
          "base_uri": "https://localhost:8080/",
          "height": 89
        },
        "id": "dEplFM8hzltF",
        "outputId": "29c761ac-d36f-4888-9b6c-0dac677353bb"
      },
      "execution_count": 23,
      "outputs": [
        {
          "output_type": "stream",
          "name": "stdout",
          "text": [
            "556.7926432291666 120.92496744791667 590.9645182291666 148.50675455729166\n"
          ]
        },
        {
          "output_type": "execute_result",
          "data": {
            "text/plain": [
              "<PIL.Image.Image image mode=RGB size=68x55>"
            ],
            "image/png": "[encoded data removed]",
            "image/jpeg": "[encoded data removed]"
          },
          "metadata": {},
          "execution_count": 23
        }
      ]
    },
    {
      "cell_type": "code",
      "source": [],
      "metadata": {
        "id": "iKwYYseIzzuw"
      },
      "execution_count": null,
      "outputs": []
    }
  ]
}